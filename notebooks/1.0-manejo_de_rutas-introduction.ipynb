{
 "cells": [
  {
   "cell_type": "code",
   "execution_count": 1,
   "metadata": {},
   "outputs": [],
   "source": [
    "import pathlib"
   ]
  },
  {
   "cell_type": "code",
   "execution_count": 5,
   "metadata": {},
   "outputs": [
    {
     "name": "stdout",
     "output_type": "stream",
     "text": [
      "C:\\Users\\B39670\\Desktop\\manejo_de_rutas\\notebooks\n"
     ]
    }
   ],
   "source": [
    "CURRENT_DIR = pathlib.Path().resolve()  # Path local completo\n",
    "print(CURRENT_DIR)\n",
    "DATA_DIR = CURRENT_DIR.parent.joinpath(\"data\", \"raw\")  # Directorio objetivo"
   ]
  },
  {
   "cell_type": "code",
   "execution_count": 3,
   "metadata": {},
   "outputs": [
    {
     "name": "stdout",
     "output_type": "stream",
     "text": [
      "C:\\Users\\B39670\\Desktop\\manejo_de_rutas\\data\\raw\n"
     ]
    }
   ],
   "source": [
    "print(DATA_DIR)"
   ]
  },
  {
   "cell_type": "code",
   "execution_count": 6,
   "metadata": {},
   "outputs": [
    {
     "data": {
      "text/plain": [
       "True"
      ]
     },
     "execution_count": 6,
     "metadata": {},
     "output_type": "execute_result"
    }
   ],
   "source": [
    "DATA_DIR.exists()  # Revisa si el directorio existe"
   ]
  },
  {
   "cell_type": "code",
   "execution_count": 7,
   "metadata": {},
   "outputs": [
    {
     "data": {
      "text/plain": [
       "True"
      ]
     },
     "execution_count": 7,
     "metadata": {},
     "output_type": "execute_result"
    }
   ],
   "source": [
    "DATA_DIR.is_dir()  # Revisa si es un directorio"
   ]
  },
  {
   "cell_type": "code",
   "execution_count": 9,
   "metadata": {},
   "outputs": [],
   "source": [
    "DATA_DIR.joinpath(\"nombre_carpeta\").mkdir()"
   ]
  },
  {
   "cell_type": "code",
   "execution_count": 12,
   "metadata": {},
   "outputs": [
    {
     "data": {
      "text/plain": [
       "[WindowsPath('C:/Users/B39670/Desktop/manejo_de_rutas/data/raw/.gitkeep'),\n",
       " WindowsPath('C:/Users/B39670/Desktop/manejo_de_rutas/data/raw/nombre_carpeta'),\n",
       " WindowsPath('C:/Users/B39670/Desktop/manejo_de_rutas/data/raw/os'),\n",
       " WindowsPath('C:/Users/B39670/Desktop/manejo_de_rutas/data/raw/os2')]"
      ]
     },
     "execution_count": 12,
     "metadata": {},
     "output_type": "execute_result"
    }
   ],
   "source": [
    "list(DATA_DIR.glob(\"*\"))"
   ]
  }
 ],
 "metadata": {
  "kernelspec": {
   "display_name": "manejo_de_rutas",
   "language": "python",
   "name": "python3"
  },
  "language_info": {
   "codemirror_mode": {
    "name": "ipython",
    "version": 3
   },
   "file_extension": ".py",
   "mimetype": "text/x-python",
   "name": "python",
   "nbconvert_exporter": "python",
   "pygments_lexer": "ipython3",
   "version": "3.9.12"
  },
  "orig_nbformat": 4,
  "vscode": {
   "interpreter": {
    "hash": "2d0ba9cbf1d73349b873d5a24e7cc82bcaca8c0b0af3abd8a88cbf8e0f225acb"
   }
  }
 },
 "nbformat": 4,
 "nbformat_minor": 2
}
